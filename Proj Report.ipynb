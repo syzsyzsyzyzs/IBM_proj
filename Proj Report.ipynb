{
 "cells": [
  {
   "cell_type": "markdown",
   "id": "generous-tradition",
   "metadata": {},
   "source": [
    "# Culture vs Functions: A Comparison among Capitals and Financial Centers between USA and China"
   ]
  },
  {
   "cell_type": "markdown",
   "id": "constant-notion",
   "metadata": {},
   "source": [
    "## Introduction"
   ]
  },
  {
   "cell_type": "markdown",
   "id": "engaged-brush",
   "metadata": {},
   "source": [
    "The U.S. and China are two of the largest consumer market, while both countries have distinctly different cultures, market characteristics and business environments. Also due to the difference in languages and cultures, the comparison between both countries are seldomly conducted. In this project, we aim to present a comparison between both countries through the **similarity study among their capitals and financial centers**, i.e. Washington D.C., New York city, Beijing and Shanghai. And the report is targeted to **the investors that are interested in the markets of the both counties as well as the stakeholders that are intriguing about the lifestyles in either, if not both, of the countries**. Through the study, the features of these cities will be reflected by the variables generated based on the venue categories in each neighborhoods. Then the discussion about these cities presented on these features. "
   ]
  },
  {
   "cell_type": "markdown",
   "id": "boolean-advocacy",
   "metadata": {},
   "source": [
    "## Data"
   ]
  },
  {
   "cell_type": "markdown",
   "id": "contemporary-separation",
   "metadata": {},
   "source": [
    "In aim of the comparison, the following data will be required:\n",
    "* the list of neighborhoods of each city\n",
    "* centers of the neighborhoods in each city obtained through **ArcGIS Geocode API**\n",
    "* location and category information of venues in each neighborhoods obtained from **Foursquare API**\n",
    "\n",
    "The neighborhoods list of Washington D.C. and New York city can be obtained from Wikipidia, while there is no such list for the Chinese cities. To solve the problem, we randomly generated points in the downtown region in both cities with same neighborhood densities as that for the American cities, and using them as the neighborhoods for the study. "
   ]
  },
  {
   "cell_type": "markdown",
   "id": "existing-bleeding",
   "metadata": {},
   "source": [
    "## Methodology"
   ]
  },
  {
   "cell_type": "markdown",
   "id": "configured-greeting",
   "metadata": {},
   "source": [
    "In this project, we first obtained the neighborhood locations of each cities, then the information of venues in each neighborhood is collected from Foursquare API. To be specific, the venues around 500m of each neighborhood were requested. The **frequency of each kind of venues** in the respective neighborhoods were then calculated and used as a **feature of the neighborhood**. \n",
    "\n",
    "In the second step, the **k-means algorithm** is used to cluster the neighborhoods based on these features. In this way, neighborhoods are classified based on different venue compositions. \n",
    "\n",
    "Thirdly, the classification result is visualized via **maps** and **bar plots**. On the maps, each neighborhood was colored according to their clusters, which reflects the spatial distribution of the neighborhoods. And the ranked bar plots using the number of neighborhoods in each cluster were also presented. In addition, to visualize the feature of each cluster, the ranked bar plots of venue categories for the top five clusters in each city were provided. To have a big picture of the city, the venue categories bar plot and the word cloud generated using the frequencies of each venue category name for cities were also provided. \n",
    "\n",
    "It should be noted that though the venues information of all cities is collected through Foursquare API. Probably due to different data source and distinct cultures, some venues are classified into different categories which only have different name but same or similar functions. On the other side, the categories according to Foursquare is specific. For instance, the restaurants are classified into American restaurant, Chinese restaurant, etc. But for stakeholders require a picture on a macro level, the categorization is not proper. Therefore, we **combined some of the venue categories** and conducted the clustering using the four cities' venue data together to provide a more macro and comparable exploration."
   ]
  },
  {
   "cell_type": "markdown",
   "id": "automotive-seventh",
   "metadata": {},
   "source": [
    "## Results & Discussion"
   ]
  },
  {
   "cell_type": "markdown",
   "id": "northern-citizen",
   "metadata": {},
   "source": [
    "### Clustering results of Manhattan"
   ]
  },
  {
   "cell_type": "markdown",
   "id": "massive-diagram",
   "metadata": {},
   "source": [
    "![Fig](Fig1-1.jpg \"Manhattan-1\")"
   ]
  },
  {
   "cell_type": "markdown",
   "id": "alike-fifth",
   "metadata": {},
   "source": [
    "In all the neighborhoods in Manhattan, cluster 1, 10 and 18 are the three dominant clusters. And interestingly, the neighborhoods in cluster 1 are mainly located in downtown region. The neighborhoods in cluster 10 are distributed at midtown and south end of the downtown area. While neighborhoods in cluster 18 are more closer to the shoreline of Manhanttan island. \n",
    "\n",
    "On the word cloud, it can be found the most venues in Manhattan including restaurant, various stores and shops, as well as bars and coffeehouse. And among restaurant, American, Italian and Mexican foods are very popular. In addition, there is also a great number of fastfood like pizza, sandwich and deli in Manhattan. In the following bar plot of venue categories of the city, the pattern is reflected as well. Coffee places, restaurants, hotels, parks, gym and bars are the most venues in Manhattan. The following five plots represent the venue categories for the top 5 clusters. The error bars denote the standard errors of the venue categories among the neighborhoods in respective clusters. More specific information about the distribution of venues can be obtained. For example, the hotels are the second most venues in cluster 10, while have lower ranks in other clusters. And cluster 10 is mostly distributed in south of downtown and midtown, indicating these regions are good locations for hotels. "
   ]
  },
  {
   "cell_type": "markdown",
   "id": "genuine-migration",
   "metadata": {},
   "source": [
    "![Fig](Fig1-2.jpg \"Manhattan-2\")"
   ]
  },
  {
   "cell_type": "markdown",
   "id": "integrated-albuquerque",
   "metadata": {},
   "source": [
    "![Fig](Fig1-3.jpg \"Manhattan-3\")"
   ]
  },
  {
   "cell_type": "markdown",
   "id": "revised-sensitivity",
   "metadata": {},
   "source": [
    "### Clustering results of Washington DC"
   ]
  },
  {
   "cell_type": "markdown",
   "id": "chief-vehicle",
   "metadata": {},
   "source": [
    "![Fig](Fig2-1.jpg \"DC-1\")"
   ]
  },
  {
   "cell_type": "markdown",
   "id": "streaming-medicine",
   "metadata": {},
   "source": [
    "In comparison to Manhattan, the coffee places is much less in DC. Though the restaurant is still many in the city, as shown in the word cloud, the most popular food is Chinese food in DC. However, when it comes to the cluster level. The neighborhoods falling in cluster 1 in DC are predominant in DC. And they are mostly distributed in the central region of DC. In this cluster, fastfood including pizza and sandwich places, coffee shops and American Restaurants are most, which shows a similarity as Manhattan. Another important feature of the city is the cluster 5 distributed at the marginal region of DC, which is also the second most cluster. An extremely high number of liquor store is found here."
   ]
  },
  {
   "cell_type": "markdown",
   "id": "swiss-image",
   "metadata": {},
   "source": [
    "![Fig](Fig2-2.jpg \"DC-2\")"
   ]
  },
  {
   "cell_type": "markdown",
   "id": "better-gathering",
   "metadata": {},
   "source": [
    "![Fig](Fig2-3.jpg \"DC-3\")"
   ]
  },
  {
   "cell_type": "markdown",
   "id": "three-numbers",
   "metadata": {},
   "source": [
    "### Clustering results of Shanghai"
   ]
  },
  {
   "cell_type": "markdown",
   "id": "known-butler",
   "metadata": {},
   "source": [
    "![Fig](Fig3-1.jpg \"Shanghai-1\")"
   ]
  },
  {
   "cell_type": "markdown",
   "id": "amazing-teach",
   "metadata": {},
   "source": [
    "As a metropolis city, Shanghai shows some similar venue features as Manhattan and DC. For instance, there are also a lot of fastfood and coffee shops in the city. And not surprisingly, the Chinese restaurant is the most restaurant in Shanghai. However, Shanghai also presents some different features. Hotels is more abundant in the city. And metro station, as a part of the public transport system, is the top 6th venues in Shanghai. In view of the neighborhoods distribution, the neighborhoods in cluster 8 contain extremely high number of hotels. Generally, they can be found in each region of the city. And neighborhoods in cluster 9 with high number of coffee shops are also distributed around the city and usually beside a cluster 8 neighborhood. Thus good places for coffee shops and hotels can be found allover the city. And Chinese restaurants are mainly located in the westsouth corner of the city, which is also primarily the old town of Shanghai."
   ]
  },
  {
   "cell_type": "markdown",
   "id": "single-effect",
   "metadata": {},
   "source": [
    "![Fig](Fig3-2.jpg \"Shanghai-2\")"
   ]
  },
  {
   "cell_type": "markdown",
   "id": "under-scotland",
   "metadata": {},
   "source": [
    "![Fig](Fig3-3.jpg \"Shanghai-3\")"
   ]
  },
  {
   "cell_type": "markdown",
   "id": "amino-rapid",
   "metadata": {},
   "source": [
    "### Clustering results of Beijing"
   ]
  },
  {
   "cell_type": "markdown",
   "id": "proud-assignment",
   "metadata": {},
   "source": [
    "![Fig](Fig4-1.jpg \"Beijing-1\")"
   ]
  },
  {
   "cell_type": "markdown",
   "id": "induced-cooper",
   "metadata": {},
   "source": [
    "In comparison with Manhattan and DC, the distribution of Beijing and Shanghai do not show obvious aggregation of clusters. Though cluster 9 neighborhoods are predominant in Beijing, they are randomly distributed in the city. And Chinese restaurants are the most popular venues in the city. Similar as Shanghai, there are many public transport venue metro stations in Beijing. Though Beijing has an over six hundred years histroy, as a metropolis city, hotels, fastfood and coffee shops are plentiful in Beijing. Additionally, another feature of the both China cities is that the shopping mall has high ranks in the venue categories, which is not found in the top ten venue categories in Manhattan and DC."
   ]
  },
  {
   "cell_type": "markdown",
   "id": "moved-adolescent",
   "metadata": {},
   "source": [
    "![Fig](Fig4-2.jpg \"Beijing-2\")"
   ]
  },
  {
   "cell_type": "markdown",
   "id": "right-conjunction",
   "metadata": {},
   "source": [
    "![Fig](Fig4-3.jpg \"Beijing-3\")"
   ]
  },
  {
   "cell_type": "markdown",
   "id": "velvet-albuquerque",
   "metadata": {},
   "source": [
    "### Combining and Clustering results of Manhattan"
   ]
  },
  {
   "cell_type": "markdown",
   "id": "laughing-translator",
   "metadata": {},
   "source": [
    "![Fig](Fig5-1.jpg \"Manhattan-1\")"
   ]
  },
  {
   "cell_type": "markdown",
   "id": "emotional-paragraph",
   "metadata": {},
   "source": [
    "![Fig](Fig5-2.jpg \"Manhattan-2\")"
   ]
  },
  {
   "cell_type": "markdown",
   "id": "heard-characteristic",
   "metadata": {},
   "source": [
    "![Fig](Fig5-3.jpg \"Manhattan-3\")"
   ]
  },
  {
   "cell_type": "markdown",
   "id": "western-edgar",
   "metadata": {},
   "source": [
    "### Combining and Clustering results of DC"
   ]
  },
  {
   "cell_type": "markdown",
   "id": "seasonal-armenia",
   "metadata": {},
   "source": [
    "![Fig](Fig6-1.jpg \"DC-1\")"
   ]
  },
  {
   "cell_type": "markdown",
   "id": "medium-invitation",
   "metadata": {},
   "source": [
    "![Fig](Fig6-2.jpg \"DC-2\")"
   ]
  },
  {
   "cell_type": "markdown",
   "id": "silver-extreme",
   "metadata": {},
   "source": [
    "![Fig](Fig6-3.jpg \"DC-3\")"
   ]
  },
  {
   "cell_type": "markdown",
   "id": "electrical-rings",
   "metadata": {},
   "source": [
    "### Combining and Clustering results of Shanghai"
   ]
  },
  {
   "cell_type": "markdown",
   "id": "equal-jimmy",
   "metadata": {},
   "source": [
    "![Fig](Fig7-1.jpg \"Shanghai-1\")"
   ]
  },
  {
   "cell_type": "markdown",
   "id": "personal-benchmark",
   "metadata": {},
   "source": [
    "![Fig](Fig7-2.jpg \"Shanghai-2\")"
   ]
  },
  {
   "cell_type": "markdown",
   "id": "preceding-broadcasting",
   "metadata": {},
   "source": [
    "![Fig](Fig7-3.jpg \"Shanghai-3\")"
   ]
  },
  {
   "cell_type": "markdown",
   "id": "frank-vault",
   "metadata": {},
   "source": [
    "### Combining and Clustering results of Beijing"
   ]
  },
  {
   "cell_type": "markdown",
   "id": "loved-expert",
   "metadata": {},
   "source": [
    "![Fig](Fig8-1.jpg \"Beijing-1\")"
   ]
  },
  {
   "cell_type": "markdown",
   "id": "experienced-quebec",
   "metadata": {},
   "source": [
    "![Fig](Fig8-2.jpg \"Beijing-2\")"
   ]
  },
  {
   "cell_type": "markdown",
   "id": "fatal-falls",
   "metadata": {},
   "source": [
    "![Fig](Fig8-3.jpg \"Beijing-3\")"
   ]
  },
  {
   "cell_type": "markdown",
   "id": "tested-terrorist",
   "metadata": {},
   "source": [
    "After combined some venues, the clustering results are more comparable. Though the venue categories bar plots of same cluster are still inconsistent among cities. This is not surprising given the poor Sihouette coefficient observed during clustering. Similar ranks and venue categories combinations present among these bar plots of same cluster in different cities, we can still use the result for exploring of the cities.\n",
    "\n",
    "The patterns we noticed in above section present in this result as well. For example, the clusters in DC and Manhattan also aggregate in spatial distribution, while in Shanghai and Beijing, the clusters tend to present randomly on maps. Metro station, hotels and shopping malls achieve high rank in China cities. Restaurants are the most venues in cities. \n",
    "\n",
    "Some new patterns can be found. Firstly, drink shops achieved high ranks in every city. In terms of sport-related venues, gym venues achieved a high rank in American cities. While Chinese cities do not have as many gyms. As for night life, Manhattan has the most night life venues, DC and Beijing, have similar levels of night life venues. While Shanghai, unexpectedly, do not has night life venues in the top ten venue categories. "
   ]
  },
  {
   "cell_type": "markdown",
   "id": "interim-consideration",
   "metadata": {},
   "source": [
    "# Conclusion"
   ]
  },
  {
   "cell_type": "markdown",
   "id": "detected-gateway",
   "metadata": {},
   "source": [
    "Afterall, we can find from above study that the restaurants, coffee houses and hotels are the most venues in all the four cities. But in American cities, American and Italian foods are more favored, while in China, the Chinese food is most. In terms of sports and exercise, American cities have a higher requirement of gyms, while in Chinese cities, outdoor venues attribute the most. The other dissimilarity among cities between America and China is that China cities have more shopping malls and metro stations. As for night life, Manhattan is rich in night life venues, DC has most liquor stores, while Shanghai, surprisingly has least night life venues among the four cities. Last but not the least, the spatial distribution of neighborhoods in same clusters show aggregation in American cities, but randomly present in Chinese cities. And we hope this study about cities in different countries could provide valuable information and inspiration for investors and stakeholders interested about Chinese and/or American markets."
   ]
  }
 ],
 "metadata": {
  "kernelspec": {
   "display_name": "Python 3",
   "language": "python",
   "name": "python3"
  },
  "language_info": {
   "codemirror_mode": {
    "name": "ipython",
    "version": 3
   },
   "file_extension": ".py",
   "mimetype": "text/x-python",
   "name": "python",
   "nbconvert_exporter": "python",
   "pygments_lexer": "ipython3",
   "version": "3.8.5"
  }
 },
 "nbformat": 4,
 "nbformat_minor": 5
}
