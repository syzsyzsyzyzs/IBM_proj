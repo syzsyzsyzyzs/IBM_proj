{
 "cells": [
  {
   "cell_type": "markdown",
   "id": "drawn-match",
   "metadata": {},
   "source": [
    "# Culture vs Functions: A Comparison among Capitals and Financial Centers between USA and China"
   ]
  },
  {
   "cell_type": "markdown",
   "id": "increased-sullivan",
   "metadata": {},
   "source": [
    "## Introduction"
   ]
  },
  {
   "cell_type": "markdown",
   "id": "rocky-migration",
   "metadata": {},
   "source": [
    "The U.S. and China are two of the largest consumer market, while both countries have distinctly different cultures, market characteristics and business environments. Also due to the difference in languages and cultures, the comparison between both countries are seldomly conducted. In this project, we aim to present a comparison between both countries through the **similarity study among their capitals and financial centers**, i.e. Washington D.C., New York city, Beijing and Shanghai. And the report is targeted to **the investors that are interested in the markets of the both counties as well as the stakeholders that are intriguing about the lifestyles in either, if not both, of the countries**. Through the study, the features of these cities will be reflected by the variables generated based on the venue categories in each neighborhoods. Then the discussion about these cities presented on these features. "
   ]
  },
  {
   "cell_type": "markdown",
   "id": "outstanding-intranet",
   "metadata": {},
   "source": [
    "## Data"
   ]
  },
  {
   "cell_type": "markdown",
   "id": "knowing-browse",
   "metadata": {},
   "source": [
    "In aim of the comparison, the following data will be required:\n",
    "* the list of neighborhoods of each city\n",
    "* centers of the neighborhoods in each city obtained through **ArcGIS Geocode API**\n",
    "* location and category information of venues in each neighborhoods obtained from **Foursquare API**\n",
    "\n",
    "The neighborhoods list of Washington D.C. and New York city can be obtained from Wikipidia, while there is no such list for the Chinese cities. To solve the problem, we randomly generated points in the downtown region in both cities with same neighborhood densities as that for the American cities, and using them as the neighborhoods for the study. "
   ]
  }
 ],
 "metadata": {
  "kernelspec": {
   "display_name": "Python 3",
   "language": "python",
   "name": "python3"
  },
  "language_info": {
   "codemirror_mode": {
    "name": "ipython",
    "version": 3
   },
   "file_extension": ".py",
   "mimetype": "text/x-python",
   "name": "python",
   "nbconvert_exporter": "python",
   "pygments_lexer": "ipython3",
   "version": "3.8.5"
  }
 },
 "nbformat": 4,
 "nbformat_minor": 5
}
