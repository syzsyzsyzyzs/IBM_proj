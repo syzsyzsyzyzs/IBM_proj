{
 "cells": [
  {
   "cell_type": "markdown",
   "id": "bottom-boston",
   "metadata": {},
   "source": [
    "# Culture vs Functions: A Comparison among Capitals and Financial Centers between USA and China"
   ]
  },
  {
   "cell_type": "markdown",
   "id": "funded-fundamental",
   "metadata": {},
   "source": [
    "## Introduction"
   ]
  },
  {
   "cell_type": "markdown",
   "id": "opened-priority",
   "metadata": {},
   "source": [
    "The U.S. and China are two of the largest consumer market, while both countries have distinctly different cultures, market characteristics and business environments. Also due to the difference in languages and cultures, the comparison between both countries are seldomly conducted. In this project, we aim to present a comparison between both countries through the **similarity study among their capitals and financial centers**, i.e. Washington D.C., New York city, Beijing and Shanghai. And the report is targeted to **the investors that are interested in the markets of the both counties as well as the stakeholders that are intriguing about the lifestyles in either, if not both, of the countries**. Through the study, the features of these cities will be reflected by the variables generated based on the venue categories in each neighborhoods. Then the discussion about these cities presented on these features. "
   ]
  },
  {
   "cell_type": "markdown",
   "id": "becoming-portal",
   "metadata": {},
   "source": [
    "## Data"
   ]
  },
  {
   "cell_type": "markdown",
   "id": "dramatic-neighbor",
   "metadata": {},
   "source": [
    "In aim of the comparison, the following data will be required:\n",
    "* the list of neighborhoods of each city\n",
    "* centers of the neighborhoods in each city obtained through **ArcGIS Geocode API**\n",
    "* location and category information of venues in each neighborhoods obtained from **Foursquare API**\n",
    "\n",
    "The neighborhoods list of Washington D.C. and New York city can be obtained from Wikipidia, while there is no such list for the Chinese cities. To solve the problem, we randomly generated points in the downtown region in both cities with same neighborhood densities as that for the American cities, and using them as the neighborhoods for the study. "
   ]
  },
  {
   "cell_type": "markdown",
   "id": "scheduled-flavor",
   "metadata": {},
   "source": [
    "## Methodology"
   ]
  },
  {
   "cell_type": "markdown",
   "id": "figured-booth",
   "metadata": {},
   "source": [
    "In this project, we first obtained the neighborhood locations of each cities, then the information of venues in each neighborhood is collected from Foursquare API. To be specific, the venues around 500m of each neighborhood were requested. The **frequency of each kind of venues** in the respective neighborhoods were then calculated and used as a **feature of the neighborhood**. \n",
    "\n",
    "In the second step, the **k-means algorithm** is used to cluster the neighborhoods based on these features. In this way, neighborhoods are classified based on different venue compositions. \n",
    "\n",
    "Thirdly, the classification result is visualized via **maps** and **bar plots**. On the maps, each neighborhood was colored according to their clusters, which reflects the spatial distribution of the neighborhoods. And the ranked bar plots using the number of neighborhoods in each cluster were also presented. In addition, to visualize the feature of each cluster, the ranked bar plots of venue categories for the top five clusters in each city were provided. To have a big picture of the city, the venue categories bar plot and the word cloud generated using the frequencies of each venue category name for cities were also provided. \n",
    "\n",
    "It should be noted that though the venues information of all cities is collected through Foursquare API. Probably due to different data source and distinct cultures, some venues are classified into different categories which only have different name but same or similar functions. On the other side, the categories according to Foursquare is specific. For instance, the restaurants are classified into American restaurant, Chinese restaurant, etc. But for stakeholders require a picture on a macro level, the categorization is not proper. Therefore, we **combined some of the venue categories** and conducted the clustering using the four cities' venue data together to provide a more macro and comparable exploration."
   ]
  },
  {
   "cell_type": "markdown",
   "id": "local-immune",
   "metadata": {},
   "source": [
    "## Results"
   ]
  },
  {
   "cell_type": "markdown",
   "id": "eight-diesel",
   "metadata": {},
   "source": [
    "### Clustering results of Manhattan"
   ]
  },
  {
   "cell_type": "markdown",
   "id": "offensive-access",
   "metadata": {},
   "source": [
    "![Fig](Fig1.jpg \"Manhattan-1\")"
   ]
  },
  {
   "cell_type": "markdown",
   "id": "civil-forward",
   "metadata": {},
   "source": [
    "In all the neighborhoods in Manhattan, cluster 1, 10 and 18 are the three dominant clusters. And interestingly, the neighborhoods in cluster 1 are mainly located in downtown region. The neighborhoods in cluster 10 are distributed at midtown and south end of the downtown area. While neighborhoods in cluster 18 are premarily at the shoreline of Manhanttan island. And on the word cloud, the "
   ]
  },
  {
   "cell_type": "markdown",
   "id": "massive-minnesota",
   "metadata": {},
   "source": [
    "![Fig](Fig2.jpg \"Manhattan-2\")"
   ]
  },
  {
   "cell_type": "markdown",
   "id": "growing-junior",
   "metadata": {},
   "source": [
    "![Fig](Fig3.jpg \"Manhattan-3\")"
   ]
  },
  {
   "cell_type": "code",
   "execution_count": null,
   "id": "sunset-fellowship",
   "metadata": {},
   "outputs": [],
   "source": []
  }
 ],
 "metadata": {
  "kernelspec": {
   "display_name": "Python 3",
   "language": "python",
   "name": "python3"
  },
  "language_info": {
   "codemirror_mode": {
    "name": "ipython",
    "version": 3
   },
   "file_extension": ".py",
   "mimetype": "text/x-python",
   "name": "python",
   "nbconvert_exporter": "python",
   "pygments_lexer": "ipython3",
   "version": "3.8.5"
  }
 },
 "nbformat": 4,
 "nbformat_minor": 5
}
